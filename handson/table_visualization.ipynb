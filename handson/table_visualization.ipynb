{
 "cells": [
  {
   "cell_type": "markdown",
   "metadata": {},
   "source": [
    "# How to log classification table"
   ]
  },
  {
   "cell_type": "code",
   "execution_count": 1,
   "metadata": {},
   "outputs": [],
   "source": [
    "import wandb\n",
    "import torch\n",
    "from torch import nn\n",
    "from torch.utils.data import DataLoader\n",
    "from torchvision import datasets\n",
    "from torchvision.transforms import ToTensor\n",
    "import wandb\n",
    "\n",
    "class NeuralNetwork(nn.Module):\n",
    "    def __init__(self):\n",
    "        super(NeuralNetwork, self).__init__()\n",
    "        self.flatten = nn.Flatten()\n",
    "        self.linear_relu_stack = nn.Sequential(\n",
    "            nn.Linear(28 * 28, 512),\n",
    "            nn.ReLU(),\n",
    "            nn.Linear(512, 512),\n",
    "            nn.ReLU(),\n",
    "            nn.Linear(512, 10)\n",
    "        )\n",
    "\n",
    "    def forward(self, x):\n",
    "        x = self.flatten(x)\n",
    "        logits = self.linear_relu_stack(x)\n",
    "        return logits\n",
    "\n",
    "\n",
    "def train(dataloader, model, loss_fn, optimizer, device):\n",
    "    size = len(dataloader.dataset)\n",
    "    model.train()\n",
    "    total_loss = 0\n",
    "    for batch, (X, y) in enumerate(dataloader):\n",
    "        X, y = X.to(device), y.to(device)\n",
    "\n",
    "        # Compute prediction error\n",
    "        pred = model(X)\n",
    "        loss = loss_fn(pred, y)\n",
    "        total_loss += loss.item()\n",
    "\n",
    "        # Backpropagation\n",
    "        optimizer.zero_grad()\n",
    "        loss.backward()\n",
    "        optimizer.step()\n",
    "\n",
    "        if batch % 100 == 0:\n",
    "            loss, current = loss.item(), batch * len(X)\n",
    "            print(f\"loss: {loss:>7f}  [{current:>5d}/{size:>5d}]\")\n",
    "    return model, total_loss\n",
    "\n",
    "\n",
    "def test(dataloader, model, loss_fn, device):\n",
    "    size = len(dataloader.dataset)\n",
    "    num_batches = len(dataloader)\n",
    "    model.eval()\n",
    "    test_loss, correct = 0, 0\n",
    "    with torch.no_grad():\n",
    "        for X, y in dataloader:\n",
    "            X, y = X.to(device), y.to(device)\n",
    "            pred = model(X)\n",
    "            test_loss += loss_fn(pred, y).item()\n",
    "            correct += (pred.argmax(1) == y).type(torch.float).sum().item()\n",
    "    test_loss /= num_batches\n",
    "    correct /= size\n",
    "    print(f\"Test Error: \\n Accuracy: {(100*correct):>0.1f}%, Avg loss: {test_loss:>8f} \\n\")\n",
    "    return correct, test_loss"
   ]
  },
  {
   "cell_type": "code",
   "execution_count": 2,
   "metadata": {},
   "outputs": [
    {
     "name": "stderr",
     "output_type": "stream",
     "text": [
      "\u001b[34m\u001b[1mwandb\u001b[0m: Using wandb-core as the SDK backend. Please refer to https://wandb.me/wandb-core for more information.\n",
      "\u001b[34m\u001b[1mwandb\u001b[0m: Currently logged in as: \u001b[33mhyunwoo-oh\u001b[0m (\u001b[33mapac-partners\u001b[0m). Use \u001b[1m`wandb login --relogin`\u001b[0m to force relogin\n"
     ]
    },
    {
     "data": {
      "text/html": [
       "Tracking run with wandb version 0.18.1"
      ],
      "text/plain": [
       "<IPython.core.display.HTML object>"
      ]
     },
     "metadata": {},
     "output_type": "display_data"
    },
    {
     "data": {
      "text/html": [
       "Run data is saved locally in <code>/Users/hyunwoooh/workspace/examples/handson/wandb/run-20241104_200955-saorkn2i</code>"
      ],
      "text/plain": [
       "<IPython.core.display.HTML object>"
      ]
     },
     "metadata": {},
     "output_type": "display_data"
    },
    {
     "data": {
      "text/html": [
       "Syncing run <strong><a href='https://wandb.ai/apac-partners/KOREA-basic-logging/runs/saorkn2i' target=\"_blank\">classification_image_table</a></strong> to <a href='https://wandb.ai/apac-partners/KOREA-basic-logging' target=\"_blank\">Weights & Biases</a> (<a href='https://wandb.me/run' target=\"_blank\">docs</a>)<br/>"
      ],
      "text/plain": [
       "<IPython.core.display.HTML object>"
      ]
     },
     "metadata": {},
     "output_type": "display_data"
    },
    {
     "data": {
      "text/html": [
       " View project at <a href='https://wandb.ai/apac-partners/KOREA-basic-logging' target=\"_blank\">https://wandb.ai/apac-partners/KOREA-basic-logging</a>"
      ],
      "text/plain": [
       "<IPython.core.display.HTML object>"
      ]
     },
     "metadata": {},
     "output_type": "display_data"
    },
    {
     "data": {
      "text/html": [
       " View run at <a href='https://wandb.ai/apac-partners/KOREA-basic-logging/runs/saorkn2i' target=\"_blank\">https://wandb.ai/apac-partners/KOREA-basic-logging/runs/saorkn2i</a>"
      ],
      "text/plain": [
       "<IPython.core.display.HTML object>"
      ]
     },
     "metadata": {},
     "output_type": "display_data"
    },
    {
     "name": "stdout",
     "output_type": "stream",
     "text": [
      "Epoch 1\n",
      "-------------------------------\n",
      "loss: 2.309580  [    0/60000]\n",
      "loss: 2.288000  [ 6400/60000]\n",
      "loss: 2.269484  [12800/60000]\n",
      "loss: 2.257367  [19200/60000]\n",
      "loss: 2.252481  [25600/60000]\n",
      "loss: 2.219344  [32000/60000]\n",
      "loss: 2.222229  [38400/60000]\n",
      "loss: 2.191731  [44800/60000]\n",
      "loss: 2.192310  [51200/60000]\n",
      "loss: 2.153373  [57600/60000]\n",
      "Test Error: \n",
      " Accuracy: 45.3%, Avg loss: 2.151586 \n",
      "\n",
      "Epoch 2\n",
      "-------------------------------\n",
      "loss: 2.167287  [    0/60000]\n",
      "loss: 2.152312  [ 6400/60000]\n",
      "loss: 2.091537  [12800/60000]\n",
      "loss: 2.103773  [19200/60000]\n",
      "loss: 2.057420  [25600/60000]\n",
      "loss: 1.994780  [32000/60000]\n",
      "loss: 2.013555  [38400/60000]\n",
      "loss: 1.938257  [44800/60000]\n",
      "loss: 1.950415  [51200/60000]\n",
      "loss: 1.865383  [57600/60000]\n",
      "Test Error: \n",
      " Accuracy: 57.6%, Avg loss: 1.869274 \n",
      "\n",
      "Epoch 3\n",
      "-------------------------------\n",
      "loss: 1.909478  [    0/60000]\n",
      "loss: 1.875733  [ 6400/60000]\n",
      "loss: 1.751777  [12800/60000]\n",
      "loss: 1.791301  [19200/60000]\n",
      "loss: 1.679223  [25600/60000]\n",
      "loss: 1.636403  [32000/60000]\n",
      "loss: 1.648389  [38400/60000]\n",
      "loss: 1.555836  [44800/60000]\n",
      "loss: 1.591454  [51200/60000]\n",
      "loss: 1.482127  [57600/60000]\n",
      "Test Error: \n",
      " Accuracy: 59.8%, Avg loss: 1.500686 \n",
      "\n",
      "Epoch 4\n",
      "-------------------------------\n",
      "loss: 1.573482  [    0/60000]\n",
      "loss: 1.536342  [ 6400/60000]\n",
      "loss: 1.381456  [12800/60000]\n",
      "loss: 1.455237  [19200/60000]\n",
      "loss: 1.337077  [25600/60000]\n",
      "loss: 1.337694  [32000/60000]\n",
      "loss: 1.346910  [38400/60000]\n",
      "loss: 1.275480  [44800/60000]\n",
      "loss: 1.319288  [51200/60000]\n",
      "loss: 1.222416  [57600/60000]\n",
      "Test Error: \n",
      " Accuracy: 62.7%, Avg loss: 1.245753 \n",
      "\n",
      "Epoch 5\n",
      "-------------------------------\n",
      "loss: 1.323790  [    0/60000]\n",
      "loss: 1.305285  [ 6400/60000]\n",
      "loss: 1.135066  [12800/60000]\n",
      "loss: 1.244068  [19200/60000]\n",
      "loss: 1.120027  [25600/60000]\n",
      "loss: 1.147915  [32000/60000]\n",
      "loss: 1.163059  [38400/60000]\n",
      "loss: 1.104182  [44800/60000]\n",
      "loss: 1.151253  [51200/60000]\n",
      "loss: 1.069633  [57600/60000]\n",
      "Test Error: \n",
      " Accuracy: 64.4%, Avg loss: 1.089127 \n",
      "\n",
      "Epoch 6\n",
      "-------------------------------\n",
      "loss: 1.157716  [    0/60000]\n",
      "loss: 1.160305  [ 6400/60000]\n",
      "loss: 0.975858  [12800/60000]\n",
      "loss: 1.112540  [19200/60000]\n",
      "loss: 0.987453  [25600/60000]\n",
      "loss: 1.020080  [32000/60000]\n",
      "loss: 1.048000  [38400/60000]\n",
      "loss: 0.994576  [44800/60000]\n",
      "loss: 1.040331  [51200/60000]\n",
      "loss: 0.972885  [57600/60000]\n",
      "Test Error: \n",
      " Accuracy: 65.6%, Avg loss: 0.987117 \n",
      "\n",
      "Epoch 7\n",
      "-------------------------------\n",
      "loss: 1.040785  [    0/60000]\n",
      "loss: 1.064935  [ 6400/60000]\n",
      "loss: 0.865876  [12800/60000]\n",
      "loss: 1.023633  [19200/60000]\n",
      "loss: 0.902888  [25600/60000]\n",
      "loss: 0.928538  [32000/60000]\n",
      "loss: 0.970973  [38400/60000]\n",
      "loss: 0.921632  [44800/60000]\n",
      "loss: 0.962055  [51200/60000]\n",
      "loss: 0.907155  [57600/60000]\n",
      "Test Error: \n",
      " Accuracy: 66.7%, Avg loss: 0.916314 \n",
      "\n",
      "Epoch 8\n",
      "-------------------------------\n",
      "loss: 0.953669  [    0/60000]\n",
      "loss: 0.997694  [ 6400/60000]\n",
      "loss: 0.786254  [12800/60000]\n",
      "loss: 0.959542  [19200/60000]\n",
      "loss: 0.845304  [25600/60000]\n",
      "loss: 0.860426  [32000/60000]\n",
      "loss: 0.915753  [38400/60000]\n",
      "loss: 0.871463  [44800/60000]\n",
      "loss: 0.904573  [51200/60000]\n",
      "loss: 0.859458  [57600/60000]\n",
      "Test Error: \n",
      " Accuracy: 67.9%, Avg loss: 0.864554 \n",
      "\n",
      "Epoch 9\n",
      "-------------------------------\n",
      "loss: 0.886522  [    0/60000]\n",
      "loss: 0.947217  [ 6400/60000]\n",
      "loss: 0.726224  [12800/60000]\n",
      "loss: 0.911338  [19200/60000]\n",
      "loss: 0.803685  [25600/60000]\n",
      "loss: 0.808849  [32000/60000]\n",
      "loss: 0.873738  [38400/60000]\n",
      "loss: 0.835904  [44800/60000]\n",
      "loss: 0.861243  [51200/60000]\n",
      "loss: 0.822884  [57600/60000]\n",
      "Test Error: \n",
      " Accuracy: 69.1%, Avg loss: 0.825098 \n",
      "\n",
      "Epoch 10\n",
      "-------------------------------\n",
      "loss: 0.833214  [    0/60000]\n",
      "loss: 0.906852  [ 6400/60000]\n",
      "loss: 0.679332  [12800/60000]\n",
      "loss: 0.873915  [19200/60000]\n",
      "loss: 0.771644  [25600/60000]\n",
      "loss: 0.768922  [32000/60000]\n",
      "loss: 0.839912  [38400/60000]\n",
      "loss: 0.809578  [44800/60000]\n",
      "loss: 0.827801  [51200/60000]\n",
      "loss: 0.793339  [57600/60000]\n",
      "Test Error: \n",
      " Accuracy: 70.5%, Avg loss: 0.793693 \n",
      "\n",
      "Epoch 11\n",
      "-------------------------------\n",
      "loss: 0.789473  [    0/60000]\n",
      "loss: 0.872852  [ 6400/60000]\n",
      "loss: 0.641453  [12800/60000]\n",
      "loss: 0.844336  [19200/60000]\n",
      "loss: 0.746057  [25600/60000]\n",
      "loss: 0.737333  [32000/60000]\n",
      "loss: 0.811249  [38400/60000]\n",
      "loss: 0.788984  [44800/60000]\n",
      "loss: 0.801074  [51200/60000]\n",
      "loss: 0.768529  [57600/60000]\n",
      "Test Error: \n",
      " Accuracy: 71.7%, Avg loss: 0.767674 \n",
      "\n",
      "Epoch 12\n",
      "-------------------------------\n",
      "loss: 0.752500  [    0/60000]\n",
      "loss: 0.842941  [ 6400/60000]\n",
      "loss: 0.609893  [12800/60000]\n",
      "loss: 0.820085  [19200/60000]\n",
      "loss: 0.724825  [25600/60000]\n",
      "loss: 0.711969  [32000/60000]\n",
      "loss: 0.786260  [38400/60000]\n",
      "loss: 0.771911  [44800/60000]\n",
      "loss: 0.778916  [51200/60000]\n",
      "loss: 0.747021  [57600/60000]\n",
      "Test Error: \n",
      " Accuracy: 72.7%, Avg loss: 0.745315 \n",
      "\n",
      "Epoch 13\n",
      "-------------------------------\n",
      "loss: 0.720331  [    0/60000]\n",
      "loss: 0.815901  [ 6400/60000]\n",
      "loss: 0.583045  [12800/60000]\n",
      "loss: 0.799709  [19200/60000]\n",
      "loss: 0.706727  [25600/60000]\n",
      "loss: 0.691001  [32000/60000]\n",
      "loss: 0.763680  [38400/60000]\n",
      "loss: 0.757034  [44800/60000]\n",
      "loss: 0.759992  [51200/60000]\n",
      "loss: 0.727908  [57600/60000]\n",
      "Test Error: \n",
      " Accuracy: 73.7%, Avg loss: 0.725554 \n",
      "\n",
      "Epoch 14\n",
      "-------------------------------\n",
      "loss: 0.691860  [    0/60000]\n",
      "loss: 0.791137  [ 6400/60000]\n",
      "loss: 0.559720  [12800/60000]\n",
      "loss: 0.782012  [19200/60000]\n",
      "loss: 0.690840  [25600/60000]\n",
      "loss: 0.673356  [32000/60000]\n",
      "loss: 0.742857  [38400/60000]\n",
      "loss: 0.743630  [44800/60000]\n",
      "loss: 0.743616  [51200/60000]\n",
      "loss: 0.710633  [57600/60000]\n",
      "Test Error: \n",
      " Accuracy: 74.6%, Avg loss: 0.707783 \n",
      "\n",
      "Epoch 15\n",
      "-------------------------------\n",
      "loss: 0.666510  [    0/60000]\n",
      "loss: 0.768397  [ 6400/60000]\n",
      "loss: 0.539312  [12800/60000]\n",
      "loss: 0.766391  [19200/60000]\n",
      "loss: 0.676969  [25600/60000]\n",
      "loss: 0.658372  [32000/60000]\n",
      "loss: 0.723572  [38400/60000]\n",
      "loss: 0.731417  [44800/60000]\n",
      "loss: 0.729154  [51200/60000]\n",
      "loss: 0.694905  [57600/60000]\n",
      "Test Error: \n",
      " Accuracy: 75.4%, Avg loss: 0.691591 \n",
      "\n",
      "Epoch 16\n",
      "-------------------------------\n",
      "loss: 0.643860  [    0/60000]\n",
      "loss: 0.747404  [ 6400/60000]\n",
      "loss: 0.521226  [12800/60000]\n",
      "loss: 0.752332  [19200/60000]\n",
      "loss: 0.664797  [25600/60000]\n",
      "loss: 0.645404  [32000/60000]\n",
      "loss: 0.705586  [38400/60000]\n",
      "loss: 0.720275  [44800/60000]\n",
      "loss: 0.716254  [51200/60000]\n",
      "loss: 0.680488  [57600/60000]\n",
      "Test Error: \n",
      " Accuracy: 76.0%, Avg loss: 0.676702 \n",
      "\n",
      "Epoch 17\n",
      "-------------------------------\n",
      "loss: 0.623473  [    0/60000]\n",
      "loss: 0.727934  [ 6400/60000]\n",
      "loss: 0.505025  [12800/60000]\n",
      "loss: 0.739465  [19200/60000]\n",
      "loss: 0.654089  [25600/60000]\n",
      "loss: 0.634115  [32000/60000]\n",
      "loss: 0.688801  [38400/60000]\n",
      "loss: 0.710262  [44800/60000]\n",
      "loss: 0.704693  [51200/60000]\n",
      "loss: 0.667139  [57600/60000]\n",
      "Test Error: \n",
      " Accuracy: 76.8%, Avg loss: 0.662972 \n",
      "\n",
      "Epoch 18\n",
      "-------------------------------\n",
      "loss: 0.605099  [    0/60000]\n",
      "loss: 0.709927  [ 6400/60000]\n",
      "loss: 0.490451  [12800/60000]\n",
      "loss: 0.727527  [19200/60000]\n",
      "loss: 0.644525  [25600/60000]\n",
      "loss: 0.624201  [32000/60000]\n",
      "loss: 0.673219  [38400/60000]\n",
      "loss: 0.701335  [44800/60000]\n",
      "loss: 0.694538  [51200/60000]\n",
      "loss: 0.654680  [57600/60000]\n",
      "Test Error: \n",
      " Accuracy: 77.3%, Avg loss: 0.650283 \n",
      "\n",
      "Epoch 19\n",
      "-------------------------------\n",
      "loss: 0.588447  [    0/60000]\n",
      "loss: 0.693341  [ 6400/60000]\n",
      "loss: 0.477271  [12800/60000]\n",
      "loss: 0.716450  [19200/60000]\n",
      "loss: 0.635953  [25600/60000]\n",
      "loss: 0.615415  [32000/60000]\n",
      "loss: 0.658699  [38400/60000]\n",
      "loss: 0.693483  [44800/60000]\n",
      "loss: 0.685645  [51200/60000]\n",
      "loss: 0.643026  [57600/60000]\n",
      "Test Error: \n",
      " Accuracy: 77.9%, Avg loss: 0.638539 \n",
      "\n",
      "Epoch 20\n",
      "-------------------------------\n",
      "loss: 0.573324  [    0/60000]\n",
      "loss: 0.678025  [ 6400/60000]\n",
      "loss: 0.465281  [12800/60000]\n",
      "loss: 0.706180  [19200/60000]\n",
      "loss: 0.628201  [25600/60000]\n",
      "loss: 0.607559  [32000/60000]\n",
      "loss: 0.645102  [38400/60000]\n",
      "loss: 0.686724  [44800/60000]\n",
      "loss: 0.677945  [51200/60000]\n",
      "loss: 0.632117  [57600/60000]\n",
      "Test Error: \n",
      " Accuracy: 78.3%, Avg loss: 0.627673 \n",
      "\n",
      "Epoch 21\n",
      "-------------------------------\n",
      "loss: 0.559530  [    0/60000]\n",
      "loss: 0.663783  [ 6400/60000]\n",
      "loss: 0.454296  [12800/60000]\n",
      "loss: 0.696629  [19200/60000]\n",
      "loss: 0.621009  [25600/60000]\n",
      "loss: 0.600378  [32000/60000]\n",
      "loss: 0.632344  [38400/60000]\n",
      "loss: 0.680963  [44800/60000]\n",
      "loss: 0.671181  [51200/60000]\n",
      "loss: 0.621776  [57600/60000]\n",
      "Test Error: \n",
      " Accuracy: 78.6%, Avg loss: 0.617606 \n",
      "\n",
      "Epoch 22\n",
      "-------------------------------\n",
      "loss: 0.546929  [    0/60000]\n",
      "loss: 0.650511  [ 6400/60000]\n",
      "loss: 0.444245  [12800/60000]\n",
      "loss: 0.687675  [19200/60000]\n",
      "loss: 0.614279  [25600/60000]\n",
      "loss: 0.593743  [32000/60000]\n",
      "loss: 0.620465  [38400/60000]\n",
      "loss: 0.676268  [44800/60000]\n",
      "loss: 0.665264  [51200/60000]\n",
      "loss: 0.612069  [57600/60000]\n",
      "Test Error: \n",
      " Accuracy: 78.9%, Avg loss: 0.608268 \n",
      "\n",
      "Epoch 23\n",
      "-------------------------------\n",
      "loss: 0.535179  [    0/60000]\n",
      "loss: 0.638091  [ 6400/60000]\n",
      "loss: 0.434960  [12800/60000]\n",
      "loss: 0.679207  [19200/60000]\n",
      "loss: 0.607813  [25600/60000]\n",
      "loss: 0.587533  [32000/60000]\n",
      "loss: 0.609436  [38400/60000]\n",
      "loss: 0.672443  [44800/60000]\n",
      "loss: 0.660117  [51200/60000]\n",
      "loss: 0.602810  [57600/60000]\n",
      "Test Error: \n",
      " Accuracy: 79.2%, Avg loss: 0.599621 \n",
      "\n",
      "Epoch 24\n",
      "-------------------------------\n",
      "loss: 0.524221  [    0/60000]\n",
      "loss: 0.626604  [ 6400/60000]\n",
      "loss: 0.426333  [12800/60000]\n",
      "loss: 0.671136  [19200/60000]\n",
      "loss: 0.601479  [25600/60000]\n",
      "loss: 0.581834  [32000/60000]\n",
      "loss: 0.599296  [38400/60000]\n",
      "loss: 0.669445  [44800/60000]\n",
      "loss: 0.655754  [51200/60000]\n",
      "loss: 0.593872  [57600/60000]\n",
      "Test Error: \n",
      " Accuracy: 79.5%, Avg loss: 0.591606 \n",
      "\n",
      "Epoch 25\n",
      "-------------------------------\n",
      "loss: 0.513928  [    0/60000]\n",
      "loss: 0.615969  [ 6400/60000]\n",
      "loss: 0.418378  [12800/60000]\n",
      "loss: 0.663503  [19200/60000]\n",
      "loss: 0.595289  [25600/60000]\n",
      "loss: 0.576435  [32000/60000]\n",
      "loss: 0.589889  [38400/60000]\n",
      "loss: 0.667132  [44800/60000]\n",
      "loss: 0.652043  [51200/60000]\n",
      "loss: 0.585209  [57600/60000]\n",
      "Test Error: \n",
      " Accuracy: 79.7%, Avg loss: 0.584156 \n",
      "\n",
      "Epoch 26\n",
      "-------------------------------\n",
      "loss: 0.504284  [    0/60000]\n",
      "loss: 0.606042  [ 6400/60000]\n",
      "loss: 0.411032  [12800/60000]\n",
      "loss: 0.656231  [19200/60000]\n",
      "loss: 0.589099  [25600/60000]\n",
      "loss: 0.571251  [32000/60000]\n",
      "loss: 0.581190  [38400/60000]\n",
      "loss: 0.665475  [44800/60000]\n",
      "loss: 0.648691  [51200/60000]\n",
      "loss: 0.576841  [57600/60000]\n",
      "Test Error: \n",
      " Accuracy: 79.8%, Avg loss: 0.577218 \n",
      "\n",
      "Epoch 27\n",
      "-------------------------------\n",
      "loss: 0.495192  [    0/60000]\n",
      "loss: 0.596733  [ 6400/60000]\n",
      "loss: 0.404164  [12800/60000]\n",
      "loss: 0.649349  [19200/60000]\n",
      "loss: 0.582825  [25600/60000]\n",
      "loss: 0.566254  [32000/60000]\n",
      "loss: 0.573128  [38400/60000]\n",
      "loss: 0.664383  [44800/60000]\n",
      "loss: 0.645752  [51200/60000]\n",
      "loss: 0.568715  [57600/60000]\n",
      "Test Error: \n",
      " Accuracy: 80.0%, Avg loss: 0.570744 \n",
      "\n",
      "Epoch 28\n",
      "-------------------------------\n",
      "loss: 0.486585  [    0/60000]\n",
      "loss: 0.588029  [ 6400/60000]\n",
      "loss: 0.397772  [12800/60000]\n",
      "loss: 0.642763  [19200/60000]\n",
      "loss: 0.576529  [25600/60000]\n",
      "loss: 0.561341  [32000/60000]\n",
      "loss: 0.565672  [38400/60000]\n",
      "loss: 0.663729  [44800/60000]\n",
      "loss: 0.643126  [51200/60000]\n",
      "loss: 0.560811  [57600/60000]\n",
      "Test Error: \n",
      " Accuracy: 80.2%, Avg loss: 0.564692 \n",
      "\n",
      "Epoch 29\n",
      "-------------------------------\n",
      "loss: 0.478404  [    0/60000]\n",
      "loss: 0.579868  [ 6400/60000]\n",
      "loss: 0.391685  [12800/60000]\n",
      "loss: 0.636379  [19200/60000]\n",
      "loss: 0.570259  [25600/60000]\n",
      "loss: 0.556533  [32000/60000]\n",
      "loss: 0.558746  [38400/60000]\n",
      "loss: 0.663456  [44800/60000]\n",
      "loss: 0.640695  [51200/60000]\n",
      "loss: 0.553145  [57600/60000]\n",
      "Test Error: \n",
      " Accuracy: 80.4%, Avg loss: 0.559015 \n",
      "\n",
      "Epoch 30\n",
      "-------------------------------\n",
      "loss: 0.470648  [    0/60000]\n",
      "loss: 0.572269  [ 6400/60000]\n",
      "loss: 0.385920  [12800/60000]\n",
      "loss: 0.630303  [19200/60000]\n",
      "loss: 0.563923  [25600/60000]\n",
      "loss: 0.551715  [32000/60000]\n",
      "loss: 0.552213  [38400/60000]\n",
      "loss: 0.663483  [44800/60000]\n",
      "loss: 0.638372  [51200/60000]\n",
      "loss: 0.545565  [57600/60000]\n",
      "Test Error: \n",
      " Accuracy: 80.6%, Avg loss: 0.553677 \n",
      "\n"
     ]
    },
    {
     "data": {
      "text/html": [
       "<style>\n",
       "    table.wandb td:nth-child(1) { padding: 0 10px; text-align: left ; width: auto;} td:nth-child(2) {text-align: left ; width: 100%}\n",
       "    .wandb-row { display: flex; flex-direction: row; flex-wrap: wrap; justify-content: flex-start; width: 100% }\n",
       "    .wandb-col { display: flex; flex-direction: column; flex-basis: 100%; flex: 1; padding: 10px; }\n",
       "    </style>\n",
       "<div class=\"wandb-row\"><div class=\"wandb-col\"><h3>Run history:</h3><br/><table class=\"wandb\"><tr><td>test_acc</td><td>▁▃▄▄▅▅▅▅▆▆▆▆▇▇▇▇▇▇▇███████████</td></tr><tr><td>test_loss</td><td>█▇▅▄▃▃▃▂▂▂▂▂▂▂▂▂▁▁▁▁▁▁▁▁▁▁▁▁▁▁</td></tr><tr><td>train_loss</td><td>█▇▆▄▄▃▃▂▂▂▂▂▂▂▂▂▁▁▁▁▁▁▁▁▁▁▁▁▁▁</td></tr></table><br/></div><div class=\"wandb-col\"><h3>Run summary:</h3><br/><table class=\"wandb\"><tr><td>test_acc</td><td>0.8056</td></tr><tr><td>test_loss</td><td>0.55368</td></tr><tr><td>train_loss</td><td>0.53301</td></tr></table><br/></div></div>"
      ],
      "text/plain": [
       "<IPython.core.display.HTML object>"
      ]
     },
     "metadata": {},
     "output_type": "display_data"
    },
    {
     "data": {
      "text/html": [
       " View run <strong style=\"color:#cdcd00\">classification_image_table</strong> at: <a href='https://wandb.ai/apac-partners/KOREA-basic-logging/runs/saorkn2i' target=\"_blank\">https://wandb.ai/apac-partners/KOREA-basic-logging/runs/saorkn2i</a><br/> View project at: <a href='https://wandb.ai/apac-partners/KOREA-basic-logging' target=\"_blank\">https://wandb.ai/apac-partners/KOREA-basic-logging</a><br/>Synced 5 W&B file(s), 0 media file(s), 10006 artifact file(s) and 1 other file(s)"
      ],
      "text/plain": [
       "<IPython.core.display.HTML object>"
      ]
     },
     "metadata": {},
     "output_type": "display_data"
    },
    {
     "data": {
      "text/html": [
       "Find logs at: <code>./wandb/run-20241104_200955-saorkn2i/logs</code>"
      ],
      "text/plain": [
       "<IPython.core.display.HTML object>"
      ]
     },
     "metadata": {},
     "output_type": "display_data"
    }
   ],
   "source": [
    "import numpy as np\n",
    "\n",
    "PROJECT = \"KOREA-basic-logging\" \n",
    "CONFIG = {\n",
    "    \"learning_rate\": 1e-3,\n",
    "    \"epochs\": 30,\n",
    "    \"batch_size\": 64\n",
    "}\n",
    "classes = [\n",
    "        \"T-shirt\",\n",
    "        \"Trouser\",\n",
    "        \"Pullover\",\n",
    "        \"Dress\",\n",
    "        \"Coat\",\n",
    "        \"Sandal\",\n",
    "        \"Shirt\",\n",
    "        \"Sneaker\",\n",
    "        \"Bag\",\n",
    "        \"Ankle boot\",\n",
    "    ]\n",
    "\n",
    "\n",
    "## Download training data from open datasets.\n",
    "training_data = datasets.FashionMNIST(\n",
    "    root=\"data\",\n",
    "    train=True,\n",
    "    download=True,\n",
    "    transform=ToTensor(),\n",
    ")\n",
    "\n",
    "test_data = datasets.FashionMNIST(\n",
    "    root=\"data\",\n",
    "    train=False,\n",
    "    download=True,\n",
    "    transform=ToTensor(),\n",
    ")\n",
    "\n",
    "with wandb.init(project=PROJECT, name='classification_image_table') as run:\n",
    "    wandb.config.update(CONFIG)\n",
    "    \n",
    "    train_dataloader = DataLoader(training_data, batch_size=CONFIG['batch_size'])\n",
    "    test_dataloader = DataLoader(test_data, batch_size=CONFIG['batch_size'])\n",
    "    device = \"cuda\" if torch.cuda.is_available() else \"cpu\"\n",
    "    model = NeuralNetwork().to(device)\n",
    "    loss_fn = nn.CrossEntropyLoss()\n",
    "    optimizer = torch.optim.SGD(model.parameters(), lr=CONFIG['learning_rate'])\n",
    "    epochs = CONFIG['epochs']\n",
    "    for t in range(epochs):\n",
    "        print(f\"Epoch {t+1}\\n-------------------------------\")\n",
    "        model, total_loss = train(train_dataloader, model, loss_fn, optimizer, device)\n",
    "        correct, test_loss = test(test_dataloader, model, loss_fn, device)\n",
    "        wandb.log({\"train_loss\": total_loss / len(train_dataloader)}, step=t)\n",
    "        wandb.log({\"test_loss\": test_loss, \"test_acc\": correct}, step=t)\n",
    "        #####################################################################\n",
    "        if t == 1:\n",
    "            model.eval()\n",
    "            table = wandb.Table(columns=[\"Image\", \"True\", \"Pred\"]+[\"score_\"+str(cls) for cls in classes])\n",
    "            for i in range(10000):\n",
    "                x, y = test_data[i][0], test_data[i][1]\n",
    "                with torch.no_grad():\n",
    "                    pred = model(x)\n",
    "                    predicted, actual = classes[pred[0].argmax(0)], classes[y]\n",
    "                    row = [wandb.Image(x), actual, predicted]\n",
    "                for s in nn.functional.softmax(pred[0], dim=0):\n",
    "                    row.append(np.round(s.item(), 4))\n",
    "                table.add_data(*row)\n",
    "            wandb.log({\"classification_image_table\": table})    \n",
    "            model.train()\n",
    "        #####################################################################"
   ]
  },
  {
   "cell_type": "markdown",
   "metadata": {},
   "source": [
    "# How to log segmentation table"
   ]
  },
  {
   "cell_type": "code",
   "execution_count": 1,
   "metadata": {},
   "outputs": [],
   "source": [
    "import wandb\n",
    "import glob\n",
    "import numpy as np\n",
    "from PIL import Image\n",
    "BDD_CLASSES = {i:c for i,c in enumerate(['background', 'road', 'traffic light', 'traffic sign', 'person', 'vehicle', 'bicycle'])}\n",
    "\n",
    "def label_func(fname):\n",
    "    return (fname.parent.parent/\"labels\")/f\"{fname.stem}_mask.png\"\n",
    "\n",
    "def get_classes_per_image(mask_data, class_labels):\n",
    "    unique = list(np.unique(mask_data))\n",
    "    result_dict = {}\n",
    "    for _class in class_labels.keys():\n",
    "        result_dict[class_labels[_class]] = int(_class in unique)\n",
    "    return result_dict\n",
    "\n",
    "def generate_fake_prediction(mask):\n",
    "    from scipy.ndimage import gaussian_filter\n",
    "    mask = gaussian_filter(mask, sigma=10)\n",
    "    return mask\n",
    "\n",
    "fns = [fn.split('/')[-1].split('.jpg')[0] for fn in glob.glob('./artifacts/bdd_simple_1k_split_v3:v3/images/*')]\n",
    "image_path = './artifacts/bdd_simple_1k_split_v3:v3/images/%s.jpg'\n",
    "label_path = './artifacts/bdd_simple_1k_split_v3:v3/labels/%s_mask.png'"
   ]
  },
  {
   "cell_type": "code",
   "execution_count": 2,
   "metadata": {},
   "outputs": [
    {
     "name": "stderr",
     "output_type": "stream",
     "text": [
      "\u001b[34m\u001b[1mwandb\u001b[0m: Using wandb-core as the SDK backend. Please refer to https://wandb.me/wandb-core for more information.\n",
      "\u001b[34m\u001b[1mwandb\u001b[0m: Currently logged in as: \u001b[33mhyunwoo-oh\u001b[0m (\u001b[33mapac-partners\u001b[0m). Use \u001b[1m`wandb login --relogin`\u001b[0m to force relogin\n"
     ]
    },
    {
     "data": {
      "text/html": [
       "Tracking run with wandb version 0.18.1"
      ],
      "text/plain": [
       "<IPython.core.display.HTML object>"
      ]
     },
     "metadata": {},
     "output_type": "display_data"
    },
    {
     "data": {
      "text/html": [
       "Run data is saved locally in <code>/Users/hyunwoooh/workspace/examples/handson/wandb/run-20241104_180641-mlmvi335</code>"
      ],
      "text/plain": [
       "<IPython.core.display.HTML object>"
      ]
     },
     "metadata": {},
     "output_type": "display_data"
    },
    {
     "data": {
      "text/html": [
       "Syncing run <strong><a href='https://wandb.ai/apac-partners/KOREA-basic-logging/runs/mlmvi335' target=\"_blank\">segmentation_image_table</a></strong> to <a href='https://wandb.ai/apac-partners/KOREA-basic-logging' target=\"_blank\">Weights & Biases</a> (<a href='https://wandb.me/run' target=\"_blank\">docs</a>)<br/>"
      ],
      "text/plain": [
       "<IPython.core.display.HTML object>"
      ]
     },
     "metadata": {},
     "output_type": "display_data"
    },
    {
     "data": {
      "text/html": [
       " View project at <a href='https://wandb.ai/apac-partners/KOREA-basic-logging' target=\"_blank\">https://wandb.ai/apac-partners/KOREA-basic-logging</a>"
      ],
      "text/plain": [
       "<IPython.core.display.HTML object>"
      ]
     },
     "metadata": {},
     "output_type": "display_data"
    },
    {
     "data": {
      "text/html": [
       " View run at <a href='https://wandb.ai/apac-partners/KOREA-basic-logging/runs/mlmvi335' target=\"_blank\">https://wandb.ai/apac-partners/KOREA-basic-logging/runs/mlmvi335</a>"
      ],
      "text/plain": [
       "<IPython.core.display.HTML object>"
      ]
     },
     "metadata": {},
     "output_type": "display_data"
    },
    {
     "data": {
      "text/html": [
       " View run <strong style=\"color:#cdcd00\">segmentation_image_table</strong> at: <a href='https://wandb.ai/apac-partners/KOREA-basic-logging/runs/mlmvi335' target=\"_blank\">https://wandb.ai/apac-partners/KOREA-basic-logging/runs/mlmvi335</a><br/> View project at: <a href='https://wandb.ai/apac-partners/KOREA-basic-logging' target=\"_blank\">https://wandb.ai/apac-partners/KOREA-basic-logging</a><br/>Synced 5 W&B file(s), 0 media file(s), 37 artifact file(s) and 1 other file(s)"
      ],
      "text/plain": [
       "<IPython.core.display.HTML object>"
      ]
     },
     "metadata": {},
     "output_type": "display_data"
    },
    {
     "data": {
      "text/html": [
       "Find logs at: <code>./wandb/run-20241104_180641-mlmvi335/logs</code>"
      ],
      "text/plain": [
       "<IPython.core.display.HTML object>"
      ]
     },
     "metadata": {},
     "output_type": "display_data"
    }
   ],
   "source": [
    "with wandb.init(project='KOREA-basic-logging', name=\"segmentation_image_table\", job_type='create_table') as run:\n",
    "    labels = [str(BDD_CLASSES[_lab]) for _lab in list(BDD_CLASSES)]\n",
    "    table = wandb.Table(columns=[\"File_Name\", \"Images\", \"Split\"] + labels)\n",
    "    for fn in fns[:10]:\n",
    "        raw_image = Image.open(image_path%fn)\n",
    "        mask_image = Image.open(label_path%fn)\n",
    "\n",
    "        class_in_image = get_classes_per_image(np.array(mask_image), BDD_CLASSES)\n",
    "        mask_data = np.array(mask_image)\n",
    "        prediction_data = generate_fake_prediction(np.array(mask_image))\n",
    "        \n",
    "        table.add_data(\n",
    "            str(fn),\n",
    "            wandb.Image(\n",
    "                    raw_image,\n",
    "                    masks={\n",
    "                        \"ground_truths\": {\n",
    "                            \"mask_data\": mask_data,\n",
    "                            \"class_labels\": BDD_CLASSES,\n",
    "                        },\n",
    "                        \"predictions\": {\n",
    "                            \"mask_data\": prediction_data,\n",
    "                            \"class_labels\": BDD_CLASSES,\n",
    "                        }\n",
    "                    },\n",
    "            ),\n",
    "            \"None\",\n",
    "            *[class_in_image[_lab] for _lab in labels]\n",
    "        )\n",
    "    wandb.log({\"segmentation_image_table\": table})"
   ]
  },
  {
   "cell_type": "markdown",
   "metadata": {},
   "source": [
    "# How to log object-detection table"
   ]
  },
  {
   "cell_type": "code",
   "execution_count": 1,
   "metadata": {},
   "outputs": [
    {
     "name": "stdout",
     "output_type": "stream",
     "text": [
      "loading annotations into memory...\n",
      "Done (t=0.16s)\n",
      "creating index...\n",
      "index created!\n"
     ]
    }
   ],
   "source": [
    "import wandb\n",
    "import numpy as np\n",
    "from PIL import Image\n",
    "from pathlib import Path\n",
    "from pycocotools.coco import COCO\n",
    "\n",
    "# COCO 데이터셋 경로 설정\n",
    "image_dir = Path('./coco/images/val2017')\n",
    "annotation_file = './coco/annotations/instances_val2017.json'\n",
    "\n",
    "# COCO 데이터셋 로드 및 클래스 매핑 생성\n",
    "coco = COCO(str(annotation_file))\n",
    "\n",
    "# COCO 클래스 정의를 API에서 가져오기\n",
    "categories = coco.loadCats(coco.getCatIds())"
   ]
  },
  {
   "cell_type": "code",
   "execution_count": 2,
   "metadata": {},
   "outputs": [],
   "source": [
    "COCO_CLASSES = {cat['id']: cat['name'] for cat in categories}\n",
    "\n",
    "def get_boxes_for_image(image_id, image_size):\n",
    "    annotations = coco.loadAnns(coco.getAnnIds(imgIds=[image_id]))\n",
    "    boxes = []\n",
    "    for ann in annotations:\n",
    "        x, y, width, height = ann['bbox']\n",
    "        x_min = x\n",
    "        y_min = y\n",
    "        x_max = min(x + width, image_size[0])  # x_max는 이미지의 너비를 넘지 않도록 설정\n",
    "        y_max = min(y + height, image_size[1])  # y_max는 이미지의 높이를 넘지 않도록 설정\n",
    "        boxes.append({\n",
    "            \"position\": {\"minX\": x_min, \"minY\": y_min, \"maxX\": x_max, \"maxY\": y_max},\n",
    "            \"class_id\": ann['category_id'],\n",
    "            \"box_caption\": COCO_CLASSES[ann['category_id']],\n",
    "            \"scores\": {\"score\": np.random.uniform(0.5, 1.0)},  # 랜덤 스코어로 가짜 예측을 생성\n",
    "            \"domain\" : \"pixel\",\n",
    "        })\n",
    "    return boxes"
   ]
  },
  {
   "cell_type": "code",
   "execution_count": 3,
   "metadata": {},
   "outputs": [
    {
     "name": "stderr",
     "output_type": "stream",
     "text": [
      "\u001b[34m\u001b[1mwandb\u001b[0m: Using wandb-core as the SDK backend. Please refer to https://wandb.me/wandb-core for more information.\n",
      "\u001b[34m\u001b[1mwandb\u001b[0m: Currently logged in as: \u001b[33mhyunwoo-oh\u001b[0m (\u001b[33mapac-partners\u001b[0m). Use \u001b[1m`wandb login --relogin`\u001b[0m to force relogin\n"
     ]
    },
    {
     "data": {
      "text/html": [
       "Tracking run with wandb version 0.18.1"
      ],
      "text/plain": [
       "<IPython.core.display.HTML object>"
      ]
     },
     "metadata": {},
     "output_type": "display_data"
    },
    {
     "data": {
      "text/html": [
       "Run data is saved locally in <code>/Users/hyunwoooh/workspace/examples/handson/wandb/run-20241104_191402-b7s09kva</code>"
      ],
      "text/plain": [
       "<IPython.core.display.HTML object>"
      ]
     },
     "metadata": {},
     "output_type": "display_data"
    },
    {
     "data": {
      "text/html": [
       "Syncing run <strong><a href='https://wandb.ai/apac-partners/KOREA-basic-logging/runs/b7s09kva' target=\"_blank\">object_detection_image_table</a></strong> to <a href='https://wandb.ai/apac-partners/KOREA-basic-logging' target=\"_blank\">Weights & Biases</a> (<a href='https://wandb.me/run' target=\"_blank\">docs</a>)<br/>"
      ],
      "text/plain": [
       "<IPython.core.display.HTML object>"
      ]
     },
     "metadata": {},
     "output_type": "display_data"
    },
    {
     "data": {
      "text/html": [
       " View project at <a href='https://wandb.ai/apac-partners/KOREA-basic-logging' target=\"_blank\">https://wandb.ai/apac-partners/KOREA-basic-logging</a>"
      ],
      "text/plain": [
       "<IPython.core.display.HTML object>"
      ]
     },
     "metadata": {},
     "output_type": "display_data"
    },
    {
     "data": {
      "text/html": [
       " View run at <a href='https://wandb.ai/apac-partners/KOREA-basic-logging/runs/b7s09kva' target=\"_blank\">https://wandb.ai/apac-partners/KOREA-basic-logging/runs/b7s09kva</a>"
      ],
      "text/plain": [
       "<IPython.core.display.HTML object>"
      ]
     },
     "metadata": {},
     "output_type": "display_data"
    },
    {
     "data": {
      "text/html": [
       " View run <strong style=\"color:#cdcd00\">object_detection_image_table</strong> at: <a href='https://wandb.ai/apac-partners/KOREA-basic-logging/runs/b7s09kva' target=\"_blank\">https://wandb.ai/apac-partners/KOREA-basic-logging/runs/b7s09kva</a><br/> View project at: <a href='https://wandb.ai/apac-partners/KOREA-basic-logging' target=\"_blank\">https://wandb.ai/apac-partners/KOREA-basic-logging</a><br/>Synced 5 W&B file(s), 0 media file(s), 15 artifact file(s) and 1 other file(s)"
      ],
      "text/plain": [
       "<IPython.core.display.HTML object>"
      ]
     },
     "metadata": {},
     "output_type": "display_data"
    },
    {
     "data": {
      "text/html": [
       "Find logs at: <code>./wandb/run-20241104_191402-b7s09kva/logs</code>"
      ],
      "text/plain": [
       "<IPython.core.display.HTML object>"
      ]
     },
     "metadata": {},
     "output_type": "display_data"
    }
   ],
   "source": [
    "with wandb.init(project='KOREA-basic-logging', name=\"object_detection_image_table\", job_type='create_table') as run:\n",
    "    # Weights & Biases 로깅 설정\n",
    "    labels = [str(COCO_CLASSES[_lab]) for _lab in COCO_CLASSES]\n",
    "    table = wandb.Table(columns=[\"File_Name\", \"Images\"]+labels)\n",
    "\n",
    "    # 이미지 10개만 선택하여 기록\n",
    "    for image_id in coco.getImgIds()[:10]:\n",
    "        image_info = coco.loadImgs(image_id)[0]\n",
    "        image_path = image_dir / image_info['file_name']\n",
    "        raw_image = Image.open(image_path)\n",
    "\n",
    "        boxes = get_boxes_for_image(image_id, raw_image.size)\n",
    "\n",
    "        score_in_image = {label: 0 for label in labels}\n",
    "        for box in boxes:\n",
    "            score_in_image[box[\"box_caption\"]] = box[\"scores\"][\"score\"]\n",
    "\n",
    "        # 테이블에 데이터 추가\n",
    "        table.add_data(\n",
    "            str(image_info['file_name']),\n",
    "            wandb.Image(\n",
    "                raw_image,\n",
    "                boxes={\n",
    "                    \"predictions\": {\n",
    "                        \"box_data\": boxes,\n",
    "                        \"class_labels\": COCO_CLASSES,\n",
    "                    }\n",
    "                },\n",
    "            ),\n",
    "            *[score_in_image[_lab] for _lab in labels]\n",
    "        )\n",
    "    wandb.log({\"object_detection_image_table\": table})"
   ]
  }
 ],
 "metadata": {
  "kernelspec": {
   "display_name": "dev",
   "language": "python",
   "name": "python3"
  },
  "language_info": {
   "codemirror_mode": {
    "name": "ipython",
    "version": 3
   },
   "file_extension": ".py",
   "mimetype": "text/x-python",
   "name": "python",
   "nbconvert_exporter": "python",
   "pygments_lexer": "ipython3",
   "version": "3.12.0"
  }
 },
 "nbformat": 4,
 "nbformat_minor": 2
}
