{
 "cells": [
  {
   "cell_type": "code",
   "execution_count": 2,
   "metadata": {},
   "outputs": [
    {
     "data": {
      "text/html": [
       "Tracking run with wandb version 0.18.1"
      ],
      "text/plain": [
       "<IPython.core.display.HTML object>"
      ]
     },
     "metadata": {},
     "output_type": "display_data"
    },
    {
     "data": {
      "text/html": [
       "Run data is saved locally in <code>/Users/hyunwoooh/workspace/examples/handson/wandb/run-20241104_164732-10092zix</code>"
      ],
      "text/plain": [
       "<IPython.core.display.HTML object>"
      ]
     },
     "metadata": {},
     "output_type": "display_data"
    },
    {
     "data": {
      "text/html": [
       "Syncing run <strong><a href='https://wandb.ai/apac-partners/KOREA-basic-logging/runs/10092zix' target=\"_blank\">playful-darkness-1</a></strong> to <a href='https://wandb.ai/apac-partners/KOREA-basic-logging' target=\"_blank\">Weights & Biases</a> (<a href='https://wandb.me/run' target=\"_blank\">docs</a>)<br/>"
      ],
      "text/plain": [
       "<IPython.core.display.HTML object>"
      ]
     },
     "metadata": {},
     "output_type": "display_data"
    },
    {
     "data": {
      "text/html": [
       " View project at <a href='https://wandb.ai/apac-partners/KOREA-basic-logging' target=\"_blank\">https://wandb.ai/apac-partners/KOREA-basic-logging</a>"
      ],
      "text/plain": [
       "<IPython.core.display.HTML object>"
      ]
     },
     "metadata": {},
     "output_type": "display_data"
    },
    {
     "data": {
      "text/html": [
       " View run at <a href='https://wandb.ai/apac-partners/KOREA-basic-logging/runs/10092zix' target=\"_blank\">https://wandb.ai/apac-partners/KOREA-basic-logging/runs/10092zix</a>"
      ],
      "text/plain": [
       "<IPython.core.display.HTML object>"
      ]
     },
     "metadata": {},
     "output_type": "display_data"
    },
    {
     "name": "stdout",
     "output_type": "stream",
     "text": [
      "lr: 0.01\n",
      "epoch=2, accuracy=0.34028766845022473, loss=0.5284515804636171\n",
      "epoch=3, accuracy=0.45853171093146644, loss=0.24365474040693458\n",
      "epoch=4, accuracy=0.653815992076043, loss=0.30025269175326014\n",
      "epoch=5, accuracy=0.8136005437313486, loss=0.18829476903173425\n",
      "epoch=6, accuracy=0.7927711211056596, loss=0.23676577876421473\n",
      "epoch=7, accuracy=0.7879827289369249, loss=0.22003520164253781\n",
      "epoch=8, accuracy=0.8201413969062276, loss=0.1299559670788395\n",
      "epoch=9, accuracy=0.8136503308022457, loss=0.15297800999151054\n"
     ]
    },
    {
     "data": {
      "text/html": [
       "<style>\n",
       "    table.wandb td:nth-child(1) { padding: 0 10px; text-align: left ; width: auto;} td:nth-child(2) {text-align: left ; width: 100%}\n",
       "    .wandb-row { display: flex; flex-direction: row; flex-wrap: wrap; justify-content: flex-start; width: 100% }\n",
       "    .wandb-col { display: flex; flex-direction: column; flex-basis: 100%; flex: 1; padding: 10px; }\n",
       "    </style>\n",
       "<div class=\"wandb-row\"><div class=\"wandb-col\"><h3>Run history:</h3><br/><table class=\"wandb\"><tr><td>accuracy</td><td>▁▃▆█████</td></tr><tr><td>loss</td><td>█▃▄▂▃▃▁▁</td></tr></table><br/></div><div class=\"wandb-col\"><h3>Run summary:</h3><br/><table class=\"wandb\"><tr><td>accuracy</td><td>0.81365</td></tr><tr><td>loss</td><td>0.15298</td></tr></table><br/></div></div>"
      ],
      "text/plain": [
       "<IPython.core.display.HTML object>"
      ]
     },
     "metadata": {},
     "output_type": "display_data"
    },
    {
     "data": {
      "text/html": [
       " View run <strong style=\"color:#cdcd00\">playful-darkness-1</strong> at: <a href='https://wandb.ai/apac-partners/KOREA-basic-logging/runs/10092zix' target=\"_blank\">https://wandb.ai/apac-partners/KOREA-basic-logging/runs/10092zix</a><br/> View project at: <a href='https://wandb.ai/apac-partners/KOREA-basic-logging' target=\"_blank\">https://wandb.ai/apac-partners/KOREA-basic-logging</a><br/>Synced 4 W&B file(s), 0 media file(s), 5 artifact file(s) and 0 other file(s)"
      ],
      "text/plain": [
       "<IPython.core.display.HTML object>"
      ]
     },
     "metadata": {},
     "output_type": "display_data"
    },
    {
     "data": {
      "text/html": [
       "Find logs at: <code>./wandb/run-20241104_164732-10092zix/logs</code>"
      ],
      "text/plain": [
       "<IPython.core.display.HTML object>"
      ]
     },
     "metadata": {},
     "output_type": "display_data"
    }
   ],
   "source": [
    "# train.py\n",
    "import wandb\n",
    "import random  # for demo script\n",
    "\n",
    "epochs = 10\n",
    "lr = 0.01\n",
    "run = wandb.init(\n",
    "    # Set the project where this run will be logged\n",
    "    project=\"KOREA-basic-logging\",\n",
    "    name=\"basic-logging\",\n",
    "    # Track hyperparameters and run metadata\n",
    "    config={\n",
    "        \"learning_rate\": lr,\n",
    "        \"epochs\": epochs,\n",
    "    },\n",
    ")\n",
    "\n",
    "offset = random.random() / 5\n",
    "print(f\"lr: {lr}\")\n",
    "\n",
    "# simulating a training run\n",
    "for epoch in range(2, epochs):\n",
    "    acc = 1 - 2**-epoch - random.random() / epoch - offset\n",
    "    loss = 2**-epoch + random.random() / epoch + offset\n",
    "    print(f\"epoch={epoch}, accuracy={acc}, loss={loss}\")\n",
    "    wandb.log({\"accuracy\": acc, \"loss\": loss})\n",
    "\n",
    "run.finish()"
   ]
  },
  {
   "cell_type": "markdown",
   "metadata": {},
   "source": [
    "# fashion-mnist"
   ]
  },
  {
   "cell_type": "code",
   "execution_count": 5,
   "metadata": {},
   "outputs": [],
   "source": [
    "import wandb\n",
    "import torch\n",
    "from torch import nn\n",
    "from torch.utils.data import DataLoader\n",
    "from torchvision import datasets\n",
    "from torchvision.transforms import ToTensor\n",
    "import wandb\n",
    "\n",
    "class NeuralNetwork(nn.Module):\n",
    "    def __init__(self):\n",
    "        super(NeuralNetwork, self).__init__()\n",
    "        self.flatten = nn.Flatten()\n",
    "        self.linear_relu_stack = nn.Sequential(\n",
    "            nn.Linear(28 * 28, 512),\n",
    "            nn.ReLU(),\n",
    "            nn.Linear(512, 512),\n",
    "            nn.ReLU(),\n",
    "            nn.Linear(512, 10)\n",
    "        )\n",
    "\n",
    "    def forward(self, x):\n",
    "        x = self.flatten(x)\n",
    "        logits = self.linear_relu_stack(x)\n",
    "        return logits\n",
    "\n",
    "\n",
    "def train(dataloader, model, loss_fn, optimizer, device):\n",
    "    size = len(dataloader.dataset)\n",
    "    model.train()\n",
    "    total_loss = 0\n",
    "    for batch, (X, y) in enumerate(dataloader):\n",
    "        X, y = X.to(device), y.to(device)\n",
    "\n",
    "        # Compute prediction error\n",
    "        pred = model(X)\n",
    "        loss = loss_fn(pred, y)\n",
    "        total_loss += loss.item()\n",
    "\n",
    "        # Backpropagation\n",
    "        optimizer.zero_grad()\n",
    "        loss.backward()\n",
    "        optimizer.step()\n",
    "\n",
    "        if batch % 100 == 0:\n",
    "            loss, current = loss.item(), batch * len(X)\n",
    "            print(f\"loss: {loss:>7f}  [{current:>5d}/{size:>5d}]\")\n",
    "    return model, total_loss\n",
    "\n",
    "\n",
    "def test(dataloader, model, loss_fn, device):\n",
    "    size = len(dataloader.dataset)\n",
    "    num_batches = len(dataloader)\n",
    "    model.eval()\n",
    "    test_loss, correct = 0, 0\n",
    "    with torch.no_grad():\n",
    "        for X, y in dataloader:\n",
    "            X, y = X.to(device), y.to(device)\n",
    "            pred = model(X)\n",
    "            test_loss += loss_fn(pred, y).item()\n",
    "            correct += (pred.argmax(1) == y).type(torch.float).sum().item()\n",
    "    test_loss /= num_batches\n",
    "    correct /= size\n",
    "    print(f\"Test Error: \\n Accuracy: {(100*correct):>0.1f}%, Avg loss: {test_loss:>8f} \\n\")\n",
    "    return correct, test_loss"
   ]
  },
  {
   "cell_type": "code",
   "execution_count": 35,
   "metadata": {},
   "outputs": [
    {
     "data": {
      "text/html": [
       "Tracking run with wandb version 0.18.1"
      ],
      "text/plain": [
       "<IPython.core.display.HTML object>"
      ]
     },
     "metadata": {},
     "output_type": "display_data"
    },
    {
     "data": {
      "text/html": [
       "Run data is saved locally in <code>/Users/hyunwoooh/workspace/examples/handson/wandb/run-20241104_195959-83okq6gy</code>"
      ],
      "text/plain": [
       "<IPython.core.display.HTML object>"
      ]
     },
     "metadata": {},
     "output_type": "display_data"
    },
    {
     "data": {
      "text/html": [
       "Syncing run <strong><a href='https://wandb.ai/apac-partners/KOREA-basic-logging/runs/83okq6gy' target=\"_blank\">fashion_mnist</a></strong> to <a href='https://wandb.ai/apac-partners/KOREA-basic-logging' target=\"_blank\">Weights & Biases</a> (<a href='https://wandb.me/run' target=\"_blank\">docs</a>)<br/>"
      ],
      "text/plain": [
       "<IPython.core.display.HTML object>"
      ]
     },
     "metadata": {},
     "output_type": "display_data"
    },
    {
     "data": {
      "text/html": [
       " View project at <a href='https://wandb.ai/apac-partners/KOREA-basic-logging' target=\"_blank\">https://wandb.ai/apac-partners/KOREA-basic-logging</a>"
      ],
      "text/plain": [
       "<IPython.core.display.HTML object>"
      ]
     },
     "metadata": {},
     "output_type": "display_data"
    },
    {
     "data": {
      "text/html": [
       " View run at <a href='https://wandb.ai/apac-partners/KOREA-basic-logging/runs/83okq6gy' target=\"_blank\">https://wandb.ai/apac-partners/KOREA-basic-logging/runs/83okq6gy</a>"
      ],
      "text/plain": [
       "<IPython.core.display.HTML object>"
      ]
     },
     "metadata": {},
     "output_type": "display_data"
    },
    {
     "name": "stdout",
     "output_type": "stream",
     "text": [
      "Epoch 1\n",
      "-------------------------------\n",
      "loss: 2.306665  [    0/60000]\n",
      "loss: 2.296305  [ 6400/60000]\n",
      "loss: 2.285831  [12800/60000]\n",
      "loss: 2.275164  [19200/60000]\n",
      "loss: 2.267049  [25600/60000]\n",
      "loss: 2.232993  [32000/60000]\n",
      "loss: 2.242207  [38400/60000]\n",
      "loss: 2.209112  [44800/60000]\n",
      "loss: 2.208767  [51200/60000]\n",
      "loss: 2.169536  [57600/60000]\n",
      "Test Error: \n",
      " Accuracy: 38.7%, Avg loss: 2.174053 \n",
      "\n",
      "Saved PyTorch Model State to model.pth\n"
     ]
    },
    {
     "data": {
      "text/html": [
       "<style>\n",
       "    table.wandb td:nth-child(1) { padding: 0 10px; text-align: left ; width: auto;} td:nth-child(2) {text-align: left ; width: 100%}\n",
       "    .wandb-row { display: flex; flex-direction: row; flex-wrap: wrap; justify-content: flex-start; width: 100% }\n",
       "    .wandb-col { display: flex; flex-direction: column; flex-basis: 100%; flex: 1; padding: 10px; }\n",
       "    </style>\n",
       "<div class=\"wandb-row\"><div class=\"wandb-col\"><h3>Run history:</h3><br/><table class=\"wandb\"><tr><td>test_acc</td><td>▁</td></tr><tr><td>test_loss</td><td>▁</td></tr><tr><td>train_loss</td><td>▁</td></tr></table><br/></div><div class=\"wandb-col\"><h3>Run summary:</h3><br/><table class=\"wandb\"><tr><td>test_acc</td><td>0.3866</td></tr><tr><td>test_loss</td><td>2.17405</td></tr><tr><td>train_loss</td><td>2.24547</td></tr></table><br/></div></div>"
      ],
      "text/plain": [
       "<IPython.core.display.HTML object>"
      ]
     },
     "metadata": {},
     "output_type": "display_data"
    },
    {
     "data": {
      "text/html": [
       " View run <strong style=\"color:#cdcd00\">fashion_mnist</strong> at: <a href='https://wandb.ai/apac-partners/KOREA-basic-logging/runs/83okq6gy' target=\"_blank\">https://wandb.ai/apac-partners/KOREA-basic-logging/runs/83okq6gy</a><br/> View project at: <a href='https://wandb.ai/apac-partners/KOREA-basic-logging' target=\"_blank\">https://wandb.ai/apac-partners/KOREA-basic-logging</a><br/>Synced 5 W&B file(s), 0 media file(s), 10004 artifact file(s) and 1 other file(s)"
      ],
      "text/plain": [
       "<IPython.core.display.HTML object>"
      ]
     },
     "metadata": {},
     "output_type": "display_data"
    },
    {
     "data": {
      "text/html": [
       "Find logs at: <code>./wandb/run-20241104_195959-83okq6gy/logs</code>"
      ],
      "text/plain": [
       "<IPython.core.display.HTML object>"
      ]
     },
     "metadata": {},
     "output_type": "display_data"
    }
   ],
   "source": [
    "import numpy as np\n",
    "\n",
    "PROJECT = \"KOREA-basic-logging\" \n",
    "CONFIG = {\n",
    "    \"learning_rate\": 1e-3,\n",
    "    \"epochs\": 30,\n",
    "    \"batch_size\": 64\n",
    "}\n",
    "\n",
    "## Download training data from open datasets.\n",
    "training_data = datasets.FashionMNIST(\n",
    "    root=\"data\",\n",
    "    train=True,\n",
    "    download=True,\n",
    "    transform=ToTensor(),\n",
    ")\n",
    "\n",
    "test_data = datasets.FashionMNIST(\n",
    "    root=\"data\",\n",
    "    train=False,\n",
    "    download=True,\n",
    "    transform=ToTensor(),\n",
    ")\n",
    "\n",
    "with wandb.init(project=PROJECT, name='fashion_mnist') as run:\n",
    "    wandb.config.update(CONFIG)\n",
    "    \n",
    "    train_dataloader = DataLoader(training_data, batch_size=CONFIG['batch_size'])\n",
    "    test_dataloader = DataLoader(test_data, batch_size=CONFIG['batch_size'])\n",
    "    device = \"cuda\" if torch.cuda.is_available() else \"cpu\"\n",
    "    model = NeuralNetwork().to(device)\n",
    "    loss_fn = nn.CrossEntropyLoss()\n",
    "    optimizer = torch.optim.SGD(model.parameters(), lr=CONFIG['learning_rate'])\n",
    "    epochs = CONFIG['epochs']\n",
    "    for t in range(epochs):\n",
    "        print(f\"Epoch {t+1}\\n-------------------------------\")\n",
    "        model, total_loss = train(train_dataloader, model, loss_fn, optimizer, device)\n",
    "        correct, test_loss = test(test_dataloader, model, loss_fn, device)\n",
    "        #####################################################################\n",
    "        wandb.log({\"train_loss\": total_loss / len(train_dataloader)}, step=t)\n",
    "        wandb.log({\"test_loss\": test_loss, \"test_acc\": correct}, step=t)\n",
    "        #####################################################################\n",
    "\n",
    "    torch.save(model.state_dict(), \"model.pth\")\n",
    "    print(\"Saved PyTorch Model State to model.pth\")\n",
    "\n",
    "    classes = [\n",
    "        \"T-shirt/top\",\n",
    "        \"Trouser\",\n",
    "        \"Pullover\",\n",
    "        \"Dress\",\n",
    "        \"Coat\",\n",
    "        \"Sandal\",\n",
    "        \"Shirt\",\n",
    "        \"Sneaker\",\n",
    "        \"Bag\",\n",
    "        \"Ankle boot\",\n",
    "    ]\n",
    "\n",
    "    model.eval()\n",
    "    #####################################################################\n",
    "    table = wandb.Table(columns=[\"Image\", \"True\", \"Pred\"]+[\"score_\"+str(cls) for cls in classes])\n",
    "    for i in range(100):\n",
    "        x, y = test_data[i][0], test_data[i][1]\n",
    "        with torch.no_grad():\n",
    "            pred = model(x)\n",
    "            predicted, actual = classes[pred[0].argmax(0)], classes[y]\n",
    "            row = [wandb.Image(x), actual, predicted]\n",
    "        for s in nn.functional.softmax(pred[0], dim=0):\n",
    "            row.append(np.round(s.item(), 4))\n",
    "        table.add_data(*row)\n",
    "    wandb.log({\"results\": table})\n",
    "\n",
    "    model_artifact = wandb.Artifact(\"SimpleNN\", type=\"model\")\n",
    "    model_artifact.add_file(\"model.pth\")\n",
    "    run.log_artifact(model_artifact)\n",
    "    #####################################################################"
   ]
  }
 ],
 "metadata": {
  "kernelspec": {
   "display_name": "dev",
   "language": "python",
   "name": "python3"
  },
  "language_info": {
   "codemirror_mode": {
    "name": "ipython",
    "version": 3
   },
   "file_extension": ".py",
   "mimetype": "text/x-python",
   "name": "python",
   "nbconvert_exporter": "python",
   "pygments_lexer": "ipython3",
   "version": "3.12.0"
  }
 },
 "nbformat": 4,
 "nbformat_minor": 2
}
